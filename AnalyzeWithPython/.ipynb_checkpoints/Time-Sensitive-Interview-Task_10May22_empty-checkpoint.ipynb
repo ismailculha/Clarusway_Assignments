{
 "cells": [
  {
   "cell_type": "markdown",
   "id": "5be3ac0d",
   "metadata": {},
   "source": [
    "# Time Sensitive Real Interview Questions-1"
   ]
  },
  {
   "cell_type": "markdown",
   "id": "ff956190",
   "metadata": {},
   "source": [
    "Use 'sales_082020.csv' and 'currency_rates_082020_EUR.csv' files"
   ]
  },
  {
   "cell_type": "markdown",
   "id": "3996c2f4",
   "metadata": {},
   "source": [
    "**Import libraries**"
   ]
  },
  {
   "cell_type": "code",
   "execution_count": 4,
   "id": "ed7fefb9",
   "metadata": {},
   "outputs": [],
   "source": [
    "import pandas as pd\n",
    "import numpy as np\n",
    "df_sales = pd.read_csv(\"C://Users//LENOVO//PYTHON//Assignments//DAwPython//sales.csv\")\n",
    "df_currency = pd.read_csv(\"C://Users//LENOVO//PYTHON//Assignments//DAwPython//currency_rates.csv\")"
   ]
  },
  {
   "cell_type": "markdown",
   "id": "75a9c2c6",
   "metadata": {},
   "source": [
    " \n",
    "1. How many rows in the sales dataset?(Just write the numbers in the format of 000.000)"
   ]
  },
  {
   "cell_type": "code",
   "execution_count": 13,
   "id": "20fa26a6",
   "metadata": {},
   "outputs": [
    {
     "data": {
      "text/plain": [
       "'237.671'"
      ]
     },
     "execution_count": 13,
     "metadata": {},
     "output_type": "execute_result"
    }
   ],
   "source": [
    "x = len(df_sales)\n",
    "'{:,}'.format(x).replace(',','.')"
   ]
  },
  {
   "cell_type": "code",
   "execution_count": 45,
   "id": "633ed5a8",
   "metadata": {},
   "outputs": [
    {
     "name": "stdout",
     "output_type": "stream",
     "text": [
      "<class 'pandas.core.frame.DataFrame'>\n",
      "RangeIndex: 237671 entries, 0 to 237670\n",
      "Data columns (total 10 columns):\n",
      " #   Column          Non-Null Count   Dtype  \n",
      "---  ------          --------------   -----  \n",
      " 0   buyer_id        237671 non-null  object \n",
      " 1   buyer_country   237671 non-null  object \n",
      " 2   seller_id       237671 non-null  object \n",
      " 3   seller_country  237671 non-null  object \n",
      " 4   product_code    237671 non-null  object \n",
      " 5   category        237655 non-null  object \n",
      " 6   brand           119330 non-null  object \n",
      " 7   currency        237671 non-null  object \n",
      " 8   price           237671 non-null  float64\n",
      " 9   date            237671 non-null  object \n",
      "dtypes: float64(1), object(9)\n",
      "memory usage: 18.1+ MB\n"
     ]
    }
   ],
   "source": [
    "df_sales.info()"
   ]
  },
  {
   "cell_type": "code",
   "execution_count": 136,
   "id": "55f396bf",
   "metadata": {},
   "outputs": [
    {
     "name": "stdout",
     "output_type": "stream",
     "text": [
      "<class 'pandas.core.frame.DataFrame'>\n",
      "RangeIndex: 237671 entries, 0 to 237670\n",
      "Data columns (total 12 columns):\n",
      " #   Column          Non-Null Count   Dtype         \n",
      "---  ------          --------------   -----         \n",
      " 0   date            237671 non-null  datetime64[ns]\n",
      " 1   currency        237671 non-null  object        \n",
      " 2   buyer_id        237671 non-null  object        \n",
      " 3   buyer_country   237671 non-null  object        \n",
      " 4   seller_id       237671 non-null  object        \n",
      " 5   seller_country  237671 non-null  object        \n",
      " 6   product_code    237671 non-null  object        \n",
      " 7   category        237655 non-null  object        \n",
      " 8   brand           119330 non-null  object        \n",
      " 9   price           237671 non-null  float64       \n",
      " 10  rate            237671 non-null  float64       \n",
      " 11  totalEU         237671 non-null  float64       \n",
      "dtypes: datetime64[ns](1), float64(3), object(8)\n",
      "memory usage: 21.8+ MB\n"
     ]
    }
   ],
   "source": [
    "merged_df.info()"
   ]
  },
  {
   "cell_type": "markdown",
   "id": "8d7cbca8",
   "metadata": {},
   "source": [
    " \n",
    "2. How many columns in the sales dataset?(Just write the numbers) "
   ]
  },
  {
   "cell_type": "code",
   "execution_count": 17,
   "id": "7637ee57",
   "metadata": {},
   "outputs": [
    {
     "data": {
      "text/plain": [
       "10"
      ]
     },
     "execution_count": 17,
     "metadata": {},
     "output_type": "execute_result"
    }
   ],
   "source": [
    "df_sales.columns.size"
   ]
  },
  {
   "cell_type": "code",
   "execution_count": null,
   "id": "69168d47",
   "metadata": {},
   "outputs": [],
   "source": []
  },
  {
   "cell_type": "markdown",
   "id": "a98a0308",
   "metadata": {},
   "source": [
    "3. What is the total number of sellers?(Just write the numbers in the format of 000.000)"
   ]
  },
  {
   "cell_type": "code",
   "execution_count": 27,
   "id": "34741b33",
   "metadata": {},
   "outputs": [
    {
     "data": {
      "text/html": [
       "<div>\n",
       "<style scoped>\n",
       "    .dataframe tbody tr th:only-of-type {\n",
       "        vertical-align: middle;\n",
       "    }\n",
       "\n",
       "    .dataframe tbody tr th {\n",
       "        vertical-align: top;\n",
       "    }\n",
       "\n",
       "    .dataframe thead th {\n",
       "        text-align: right;\n",
       "    }\n",
       "</style>\n",
       "<table border=\"1\" class=\"dataframe\">\n",
       "  <thead>\n",
       "    <tr style=\"text-align: right;\">\n",
       "      <th></th>\n",
       "      <th>buyer_id</th>\n",
       "      <th>buyer_country</th>\n",
       "      <th>seller_id</th>\n",
       "      <th>seller_country</th>\n",
       "      <th>product_code</th>\n",
       "      <th>category</th>\n",
       "      <th>brand</th>\n",
       "      <th>currency</th>\n",
       "      <th>price</th>\n",
       "      <th>date</th>\n",
       "    </tr>\n",
       "  </thead>\n",
       "  <tbody>\n",
       "    <tr>\n",
       "      <th>0</th>\n",
       "      <td>qzpjsi9t0o</td>\n",
       "      <td>GB</td>\n",
       "      <td>6oufpaot</td>\n",
       "      <td>GB</td>\n",
       "      <td>ydecnydr6obf</td>\n",
       "      <td>Dresses</td>\n",
       "      <td>NaN</td>\n",
       "      <td>GBP</td>\n",
       "      <td>19.11</td>\n",
       "      <td>2020-08-03</td>\n",
       "    </tr>\n",
       "    <tr>\n",
       "      <th>1</th>\n",
       "      <td>o79pns1qwo</td>\n",
       "      <td>GB</td>\n",
       "      <td>50xki2yg</td>\n",
       "      <td>GB</td>\n",
       "      <td>38chj507o6h2</td>\n",
       "      <td>Outerwear</td>\n",
       "      <td>Adidas Originals</td>\n",
       "      <td>GBP</td>\n",
       "      <td>15.92</td>\n",
       "      <td>2020-08-09</td>\n",
       "    </tr>\n",
       "    <tr>\n",
       "      <th>2</th>\n",
       "      <td>sjgbjdkhqx</td>\n",
       "      <td>GB</td>\n",
       "      <td>50xki2yg</td>\n",
       "      <td>GB</td>\n",
       "      <td>i9ynyxj5tdp8</td>\n",
       "      <td>Tops - Mens</td>\n",
       "      <td>NaN</td>\n",
       "      <td>GBP</td>\n",
       "      <td>6.37</td>\n",
       "      <td>2020-08-07</td>\n",
       "    </tr>\n",
       "    <tr>\n",
       "      <th>3</th>\n",
       "      <td>o79pns1qwo</td>\n",
       "      <td>GB</td>\n",
       "      <td>s0p322hh</td>\n",
       "      <td>GB</td>\n",
       "      <td>t50xe7moye8v</td>\n",
       "      <td>Tops - Mens</td>\n",
       "      <td>Berghaus</td>\n",
       "      <td>GBP</td>\n",
       "      <td>25.27</td>\n",
       "      <td>2020-08-09</td>\n",
       "    </tr>\n",
       "    <tr>\n",
       "      <th>4</th>\n",
       "      <td>o79pns1qwo</td>\n",
       "      <td>GB</td>\n",
       "      <td>dpkx192v</td>\n",
       "      <td>GB</td>\n",
       "      <td>hp4r9bjq68af</td>\n",
       "      <td>Bottoms - Womens</td>\n",
       "      <td>NaN</td>\n",
       "      <td>GBP</td>\n",
       "      <td>8.90</td>\n",
       "      <td>2020-08-09</td>\n",
       "    </tr>\n",
       "  </tbody>\n",
       "</table>\n",
       "</div>"
      ],
      "text/plain": [
       "     buyer_id buyer_country seller_id seller_country  product_code  \\\n",
       "0  qzpjsi9t0o            GB  6oufpaot             GB  ydecnydr6obf   \n",
       "1  o79pns1qwo            GB  50xki2yg             GB  38chj507o6h2   \n",
       "2  sjgbjdkhqx            GB  50xki2yg             GB  i9ynyxj5tdp8   \n",
       "3  o79pns1qwo            GB  s0p322hh             GB  t50xe7moye8v   \n",
       "4  o79pns1qwo            GB  dpkx192v             GB  hp4r9bjq68af   \n",
       "\n",
       "           category             brand currency  price        date  \n",
       "0           Dresses               NaN      GBP  19.11  2020-08-03  \n",
       "1         Outerwear  Adidas Originals      GBP  15.92  2020-08-09  \n",
       "2       Tops - Mens               NaN      GBP   6.37  2020-08-07  \n",
       "3       Tops - Mens          Berghaus      GBP  25.27  2020-08-09  \n",
       "4  Bottoms - Womens               NaN      GBP   8.90  2020-08-09  "
      ]
     },
     "execution_count": 27,
     "metadata": {},
     "output_type": "execute_result"
    }
   ],
   "source": [
    "df_sales.head(5)"
   ]
  },
  {
   "cell_type": "code",
   "execution_count": 83,
   "id": "2c4d249d",
   "metadata": {},
   "outputs": [
    {
     "data": {
      "text/html": [
       "<div>\n",
       "<style scoped>\n",
       "    .dataframe tbody tr th:only-of-type {\n",
       "        vertical-align: middle;\n",
       "    }\n",
       "\n",
       "    .dataframe tbody tr th {\n",
       "        vertical-align: top;\n",
       "    }\n",
       "\n",
       "    .dataframe thead th {\n",
       "        text-align: right;\n",
       "    }\n",
       "</style>\n",
       "<table border=\"1\" class=\"dataframe\">\n",
       "  <thead>\n",
       "    <tr style=\"text-align: right;\">\n",
       "      <th></th>\n",
       "      <th>currency</th>\n",
       "      <th>date</th>\n",
       "      <th>rate</th>\n",
       "    </tr>\n",
       "  </thead>\n",
       "  <tbody>\n",
       "    <tr>\n",
       "      <th>0</th>\n",
       "      <td>EUR</td>\n",
       "      <td>8/1/2020</td>\n",
       "      <td>1.0</td>\n",
       "    </tr>\n",
       "    <tr>\n",
       "      <th>1</th>\n",
       "      <td>EUR</td>\n",
       "      <td>8/2/2020</td>\n",
       "      <td>1.0</td>\n",
       "    </tr>\n",
       "    <tr>\n",
       "      <th>2</th>\n",
       "      <td>EUR</td>\n",
       "      <td>8/3/2020</td>\n",
       "      <td>1.0</td>\n",
       "    </tr>\n",
       "    <tr>\n",
       "      <th>3</th>\n",
       "      <td>EUR</td>\n",
       "      <td>8/4/2020</td>\n",
       "      <td>1.0</td>\n",
       "    </tr>\n",
       "    <tr>\n",
       "      <th>4</th>\n",
       "      <td>EUR</td>\n",
       "      <td>8/5/2020</td>\n",
       "      <td>1.0</td>\n",
       "    </tr>\n",
       "  </tbody>\n",
       "</table>\n",
       "</div>"
      ],
      "text/plain": [
       "  currency      date  rate\n",
       "0      EUR  8/1/2020   1.0\n",
       "1      EUR  8/2/2020   1.0\n",
       "2      EUR  8/3/2020   1.0\n",
       "3      EUR  8/4/2020   1.0\n",
       "4      EUR  8/5/2020   1.0"
      ]
     },
     "execution_count": 83,
     "metadata": {},
     "output_type": "execute_result"
    }
   ],
   "source": [
    "df_currency.head(5)"
   ]
  },
  {
   "cell_type": "code",
   "execution_count": 23,
   "id": "d61f07e6",
   "metadata": {},
   "outputs": [
    {
     "data": {
      "text/plain": [
       "114227"
      ]
     },
     "execution_count": 23,
     "metadata": {},
     "output_type": "execute_result"
    }
   ],
   "source": [
    "df_sales.seller_id.nunique()\n",
    "len(df_sales.seller_id.value_counts())"
   ]
  },
  {
   "cell_type": "markdown",
   "id": "e58a39f6",
   "metadata": {},
   "source": [
    " \n",
    "4. What is the total value of sales in EUR?(Just write the numbers in the format of 0.000.000 )"
   ]
  },
  {
   "cell_type": "code",
   "execution_count": 29,
   "id": "aefb71d8",
   "metadata": {},
   "outputs": [
    {
     "data": {
      "text/plain": [
       "array(['GBP', 'USD', 'AUD', 'EUR', 'CAD', 'NZD', 'HKD', 'CHF', 'SEK',\n",
       "       'DKK', 'ILS', 'PLN', 'THB', 'MXN', 'JPY', 'NOK', 'SGD', 'MYR',\n",
       "       'TWD', 'HUF', 'CZK', 'BRL'], dtype=object)"
      ]
     },
     "execution_count": 29,
     "metadata": {},
     "output_type": "execute_result"
    }
   ],
   "source": [
    "df_sales.currency.unique()"
   ]
  },
  {
   "cell_type": "code",
   "execution_count": 61,
   "id": "0fb062f5",
   "metadata": {},
   "outputs": [
    {
     "data": {
      "text/plain": [
       "'275.837.69'"
      ]
     },
     "execution_count": 61,
     "metadata": {},
     "output_type": "execute_result"
    }
   ],
   "source": [
    "x = df_sales.price[df_sales.currency == \"EUR\"].sum()\n",
    "'{:,}'.format(x).replace(',','.')\n"
   ]
  },
  {
   "cell_type": "markdown",
   "id": "baab7dcd",
   "metadata": {},
   "source": [
    "5. Which brand has the highest number of purchases during the period?(Just write down the brand as in the dataset, your answer \n",
    "is supposed to be case sensitive)\n"
   ]
  },
  {
   "cell_type": "code",
   "execution_count": 58,
   "id": "fff9ad97",
   "metadata": {},
   "outputs": [
    {
     "data": {
      "text/plain": [
       "brand\n",
       "Nike    9575\n",
       "dtype: int64"
      ]
     },
     "execution_count": 58,
     "metadata": {},
     "output_type": "execute_result"
    }
   ],
   "source": [
    "df_sales.groupby(\"brand\").size().sort_values(ascending=False).head(1)"
   ]
  },
  {
   "cell_type": "code",
   "execution_count": null,
   "id": "21fe5a1e",
   "metadata": {},
   "outputs": [],
   "source": []
  },
  {
   "cell_type": "markdown",
   "id": "4950a8d0",
   "metadata": {},
   "source": [
    "6. How many items in the “Jewellery” category have no brand associated with them?(Just write the numbers in the format of 00.000)"
   ]
  },
  {
   "cell_type": "code",
   "execution_count": 73,
   "id": "f35ab85f",
   "metadata": {},
   "outputs": [
    {
     "data": {
      "text/plain": [
       "'13.525'"
      ]
     },
     "execution_count": 73,
     "metadata": {},
     "output_type": "execute_result"
    }
   ],
   "source": [
    "x = df_sales[df_sales.category == \"Jewellery\"][\"brand\"].isna().sum()\n",
    "'{:,}'.format(x).replace(',','.')"
   ]
  },
  {
   "cell_type": "code",
   "execution_count": null,
   "id": "c2e08039",
   "metadata": {},
   "outputs": [],
   "source": []
  },
  {
   "cell_type": "markdown",
   "id": "b020de3b",
   "metadata": {},
   "source": [
    " \n",
    "7. How many brands have between 35 and 55 transactions (inclusive)?(Just write the numbers)"
   ]
  },
  {
   "cell_type": "code",
   "execution_count": 76,
   "id": "f9d68416",
   "metadata": {},
   "outputs": [
    {
     "data": {
      "text/plain": [
       "71"
      ]
     },
     "execution_count": 76,
     "metadata": {},
     "output_type": "execute_result"
    }
   ],
   "source": [
    "((df_sales.groupby(\"brand\").size() > 35) & (df_sales.groupby(\"brand\").size() < 55)).sum()"
   ]
  },
  {
   "cell_type": "code",
   "execution_count": null,
   "id": "ada6ffe9",
   "metadata": {},
   "outputs": [],
   "source": []
  },
  {
   "cell_type": "markdown",
   "id": "d261f362",
   "metadata": {},
   "source": [
    " \n",
    "8. How many pairs of shoes were purchased by Australian (AU) buyers?(Just write the the numbers)"
   ]
  },
  {
   "cell_type": "code",
   "execution_count": 81,
   "id": "347efb5a",
   "metadata": {},
   "outputs": [
    {
     "data": {
      "text/plain": [
       "658"
      ]
     },
     "execution_count": 81,
     "metadata": {},
     "output_type": "execute_result"
    }
   ],
   "source": [
    "len(df_sales[(df_sales.buyer_country == \"AU\") & (df_sales.category == \"Shoes\")])"
   ]
  },
  {
   "cell_type": "code",
   "execution_count": null,
   "id": "8b31aa00",
   "metadata": {},
   "outputs": [],
   "source": []
  },
  {
   "cell_type": "markdown",
   "id": "b8aff4aa",
   "metadata": {},
   "source": [
    " \n",
    "9. Which brand has the highest average transaction value? (Just write down the brand as in the dataset, your answer is supposed to be case sensitive)"
   ]
  },
  {
   "cell_type": "code",
   "execution_count": 123,
   "id": "97b5922d",
   "metadata": {},
   "outputs": [],
   "source": [
    "df_sales[\"date\"] = pd.to_datetime(df_sales.date)\n",
    "df_currency[\"date\"] = pd.to_datetime(df_currency.date)\n"
   ]
  },
  {
   "cell_type": "code",
   "execution_count": 138,
   "id": "3d65c7b8",
   "metadata": {},
   "outputs": [
    {
     "data": {
      "text/plain": [
       "brand\n",
       "& Other Stories    4284.574791\n",
       "Name: totalEU, dtype: float64"
      ]
     },
     "execution_count": 138,
     "metadata": {},
     "output_type": "execute_result"
    }
   ],
   "source": [
    "x = df_sales.set_index([\"date\",\"currency\"])\n",
    "y = df_currency.set_index([\"date\",\"currency\"])\n",
    "merged_df = x.merge(y, how='left', on=[\"date\",\"currency\"])\n",
    "merged_df  = merged_df.reset_index()\n",
    "merged_df[\"totalEU\"] = merged_df.price * merged_df.rate\n",
    "merged_df.groupby(\"brand\")[\"totalEU\"].sum().head(1)"
   ]
  },
  {
   "cell_type": "markdown",
   "id": "22c9dc23",
   "metadata": {},
   "source": [
    "10. What is the total value of items purchased by GB buyers from GB sellers? (Just write the numbers in the format of 0.000.000 )"
   ]
  },
  {
   "cell_type": "code",
   "execution_count": 139,
   "id": "075ae095",
   "metadata": {},
   "outputs": [
    {
     "data": {
      "text/html": [
       "<div>\n",
       "<style scoped>\n",
       "    .dataframe tbody tr th:only-of-type {\n",
       "        vertical-align: middle;\n",
       "    }\n",
       "\n",
       "    .dataframe tbody tr th {\n",
       "        vertical-align: top;\n",
       "    }\n",
       "\n",
       "    .dataframe thead th {\n",
       "        text-align: right;\n",
       "    }\n",
       "</style>\n",
       "<table border=\"1\" class=\"dataframe\">\n",
       "  <thead>\n",
       "    <tr style=\"text-align: right;\">\n",
       "      <th></th>\n",
       "      <th>date</th>\n",
       "      <th>currency</th>\n",
       "      <th>buyer_id</th>\n",
       "      <th>buyer_country</th>\n",
       "      <th>seller_id</th>\n",
       "      <th>seller_country</th>\n",
       "      <th>product_code</th>\n",
       "      <th>category</th>\n",
       "      <th>brand</th>\n",
       "      <th>price</th>\n",
       "      <th>rate</th>\n",
       "      <th>totalEU</th>\n",
       "    </tr>\n",
       "  </thead>\n",
       "  <tbody>\n",
       "    <tr>\n",
       "      <th>0</th>\n",
       "      <td>2020-08-03</td>\n",
       "      <td>GBP</td>\n",
       "      <td>qzpjsi9t0o</td>\n",
       "      <td>GB</td>\n",
       "      <td>6oufpaot</td>\n",
       "      <td>GB</td>\n",
       "      <td>ydecnydr6obf</td>\n",
       "      <td>Dresses</td>\n",
       "      <td>NaN</td>\n",
       "      <td>19.11</td>\n",
       "      <td>0.89935</td>\n",
       "      <td>17.186578</td>\n",
       "    </tr>\n",
       "    <tr>\n",
       "      <th>1</th>\n",
       "      <td>2020-08-09</td>\n",
       "      <td>GBP</td>\n",
       "      <td>o79pns1qwo</td>\n",
       "      <td>GB</td>\n",
       "      <td>50xki2yg</td>\n",
       "      <td>GB</td>\n",
       "      <td>38chj507o6h2</td>\n",
       "      <td>Outerwear</td>\n",
       "      <td>Adidas Originals</td>\n",
       "      <td>15.92</td>\n",
       "      <td>0.90278</td>\n",
       "      <td>14.372258</td>\n",
       "    </tr>\n",
       "    <tr>\n",
       "      <th>2</th>\n",
       "      <td>2020-08-07</td>\n",
       "      <td>GBP</td>\n",
       "      <td>sjgbjdkhqx</td>\n",
       "      <td>GB</td>\n",
       "      <td>50xki2yg</td>\n",
       "      <td>GB</td>\n",
       "      <td>i9ynyxj5tdp8</td>\n",
       "      <td>Tops - Mens</td>\n",
       "      <td>NaN</td>\n",
       "      <td>6.37</td>\n",
       "      <td>0.90286</td>\n",
       "      <td>5.751218</td>\n",
       "    </tr>\n",
       "    <tr>\n",
       "      <th>3</th>\n",
       "      <td>2020-08-09</td>\n",
       "      <td>GBP</td>\n",
       "      <td>o79pns1qwo</td>\n",
       "      <td>GB</td>\n",
       "      <td>s0p322hh</td>\n",
       "      <td>GB</td>\n",
       "      <td>t50xe7moye8v</td>\n",
       "      <td>Tops - Mens</td>\n",
       "      <td>Berghaus</td>\n",
       "      <td>25.27</td>\n",
       "      <td>0.90278</td>\n",
       "      <td>22.813251</td>\n",
       "    </tr>\n",
       "    <tr>\n",
       "      <th>4</th>\n",
       "      <td>2020-08-09</td>\n",
       "      <td>GBP</td>\n",
       "      <td>o79pns1qwo</td>\n",
       "      <td>GB</td>\n",
       "      <td>dpkx192v</td>\n",
       "      <td>GB</td>\n",
       "      <td>hp4r9bjq68af</td>\n",
       "      <td>Bottoms - Womens</td>\n",
       "      <td>NaN</td>\n",
       "      <td>8.90</td>\n",
       "      <td>0.90278</td>\n",
       "      <td>8.034742</td>\n",
       "    </tr>\n",
       "  </tbody>\n",
       "</table>\n",
       "</div>"
      ],
      "text/plain": [
       "        date currency    buyer_id buyer_country seller_id seller_country  \\\n",
       "0 2020-08-03      GBP  qzpjsi9t0o            GB  6oufpaot             GB   \n",
       "1 2020-08-09      GBP  o79pns1qwo            GB  50xki2yg             GB   \n",
       "2 2020-08-07      GBP  sjgbjdkhqx            GB  50xki2yg             GB   \n",
       "3 2020-08-09      GBP  o79pns1qwo            GB  s0p322hh             GB   \n",
       "4 2020-08-09      GBP  o79pns1qwo            GB  dpkx192v             GB   \n",
       "\n",
       "   product_code          category             brand  price     rate    totalEU  \n",
       "0  ydecnydr6obf           Dresses               NaN  19.11  0.89935  17.186578  \n",
       "1  38chj507o6h2         Outerwear  Adidas Originals  15.92  0.90278  14.372258  \n",
       "2  i9ynyxj5tdp8       Tops - Mens               NaN   6.37  0.90286   5.751218  \n",
       "3  t50xe7moye8v       Tops - Mens          Berghaus  25.27  0.90278  22.813251  \n",
       "4  hp4r9bjq68af  Bottoms - Womens               NaN   8.90  0.90278   8.034742  "
      ]
     },
     "execution_count": 139,
     "metadata": {},
     "output_type": "execute_result"
    }
   ],
   "source": [
    "merged_df.head()"
   ]
  },
  {
   "cell_type": "code",
   "execution_count": 141,
   "id": "bbc8cebe",
   "metadata": {},
   "outputs": [
    {
     "data": {
      "text/plain": [
       "8810284.87710839"
      ]
     },
     "execution_count": 141,
     "metadata": {},
     "output_type": "execute_result"
    }
   ],
   "source": [
    "merged_df[merged_df.buyer_country == merged_df.seller_country][\"totalEU\"].sum()"
   ]
  },
  {
   "cell_type": "markdown",
   "id": "a38d3489",
   "metadata": {},
   "source": [
    "11. What percentage of US sellers' transactions were purchased by US buyers? (Just write the percentage in the format of 00.00%)"
   ]
  },
  {
   "cell_type": "code",
   "execution_count": 147,
   "id": "6081ccaa",
   "metadata": {},
   "outputs": [
    {
     "data": {
      "text/plain": [
       "0.9618717703869001"
      ]
     },
     "execution_count": 147,
     "metadata": {},
     "output_type": "execute_result"
    }
   ],
   "source": [
    "(merged_df[(merged_df.seller_country == \"US\") & (merged_df.buyer_country == \"US\")][\"totalEU\"].sum()) / (merged_df[merged_df.seller_country == \"US\"][\"totalEU\"].sum())"
   ]
  },
  {
   "cell_type": "code",
   "execution_count": null,
   "id": "656b1843",
   "metadata": {},
   "outputs": [],
   "source": []
  },
  {
   "cell_type": "markdown",
   "id": "6d2e50f4",
   "metadata": {},
   "source": [
    "# THE END"
   ]
  }
 ],
 "metadata": {
  "kernelspec": {
   "display_name": "Python 3 (ipykernel)",
   "language": "python",
   "name": "python3"
  },
  "language_info": {
   "codemirror_mode": {
    "name": "ipython",
    "version": 3
   },
   "file_extension": ".py",
   "mimetype": "text/x-python",
   "name": "python",
   "nbconvert_exporter": "python",
   "pygments_lexer": "ipython3",
   "version": "3.8.12"
  }
 },
 "nbformat": 4,
 "nbformat_minor": 5
}
