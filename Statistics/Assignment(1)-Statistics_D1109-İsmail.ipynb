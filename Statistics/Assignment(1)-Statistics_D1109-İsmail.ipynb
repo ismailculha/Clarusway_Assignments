{
 "cells": [
  {
   "cell_type": "code",
   "execution_count": null,
   "id": "aafabc37",
   "metadata": {},
   "outputs": [],
   "source": [
    "import numpy as np\n",
    "import scipy\n",
    "import pandas as pd\n",
    "from scipy import stats"
   ]
  },
  {
   "cell_type": "code",
   "execution_count": null,
   "id": "f0bd3196",
   "metadata": {},
   "outputs": [],
   "source": [
    "samples = np.random.normal(100,15,1000)"
   ]
  },
  {
   "cell_type": "code",
   "execution_count": null,
   "id": "5f18d2e5",
   "metadata": {},
   "outputs": [],
   "source": [
    "mean = np.mean(samples)\n",
    "median = np.median(samples)\n",
    "mode = stats.mode(samples)"
   ]
  },
  {
   "cell_type": "code",
   "execution_count": null,
   "id": "00ce7082",
   "metadata": {},
   "outputs": [],
   "source": [
    "min1 = np.min(samples)\n",
    "max1 = np.max(samples)\n",
    "q1 = np.percentile(samples,25)\n",
    "q3 = np.percentile(samples,75)\n",
    "iqr = stats.iqr(samples)"
   ]
  },
  {
   "cell_type": "code",
   "execution_count": null,
   "id": "8949e1bd",
   "metadata": {},
   "outputs": [],
   "source": [
    "variance = np.var(samples)\n",
    "std_dev = np.std(samples)"
   ]
  },
  {
   "cell_type": "code",
   "execution_count": null,
   "id": "1a4b98d8",
   "metadata": {},
   "outputs": [],
   "source": [
    "skewness = stats.skew(samples)\n",
    "kurtosis = stats.kurtosis(samples)\n",
    "skewness"
   ]
  },
  {
   "cell_type": "code",
   "execution_count": null,
   "id": "08ac9a80",
   "metadata": {},
   "outputs": [],
   "source": [
    "x = np.arange(10,20)"
   ]
  },
  {
   "cell_type": "code",
   "execution_count": null,
   "id": "dd5f5122",
   "metadata": {},
   "outputs": [],
   "source": [
    "y = np.array([10,20,30,11,14,18,19,24,26,5])"
   ]
  },
  {
   "cell_type": "code",
   "execution_count": null,
   "id": "c7b66605",
   "metadata": {},
   "outputs": [],
   "source": [
    "r = np.corrcoef(x,y)[0,1]"
   ]
  },
  {
   "cell_type": "code",
   "execution_count": null,
   "id": "3467ec14",
   "metadata": {},
   "outputs": [],
   "source": [
    "x = pd.Series(range(10, 20))\n",
    "y = pd.Series([2, 1, 4, 5, 8, 12, 18, 25, 96, 48])"
   ]
  },
  {
   "cell_type": "code",
   "execution_count": null,
   "id": "9a49e369",
   "metadata": {},
   "outputs": [],
   "source": [
    "r = x.corr(y)"
   ]
  },
  {
   "cell_type": "code",
   "execution_count": null,
   "id": "8b623334",
   "metadata": {},
   "outputs": [],
   "source": [
    "rho = stats.spearmanr(x,y)"
   ]
  },
  {
   "cell_type": "code",
   "execution_count": null,
   "id": "bb14865f",
   "metadata": {},
   "outputs": [],
   "source": [
    "import seaborn as sns"
   ]
  },
  {
   "cell_type": "code",
   "execution_count": null,
   "id": "ead8b0c4",
   "metadata": {},
   "outputs": [],
   "source": [
    "tips = sns.load_dataset(\"tips\")"
   ]
  },
  {
   "cell_type": "code",
   "execution_count": null,
   "id": "043d7237",
   "metadata": {},
   "outputs": [],
   "source": [
    "tips.describe()"
   ]
  },
  {
   "cell_type": "code",
   "execution_count": null,
   "id": "6191cc8f",
   "metadata": {},
   "outputs": [],
   "source": [
    "tips.corr()"
   ]
  },
  {
   "cell_type": "code",
   "execution_count": null,
   "id": "f908c4cc",
   "metadata": {},
   "outputs": [],
   "source": []
  }
 ],
 "metadata": {
  "kernelspec": {
   "display_name": "Python 3 (ipykernel)",
   "language": "python",
   "name": "python3"
  },
  "language_info": {
   "codemirror_mode": {
    "name": "ipython",
    "version": 3
   },
   "file_extension": ".py",
   "mimetype": "text/x-python",
   "name": "python",
   "nbconvert_exporter": "python",
   "pygments_lexer": "ipython3",
   "version": "3.8.12"
  }
 },
 "nbformat": 4,
 "nbformat_minor": 5
}
