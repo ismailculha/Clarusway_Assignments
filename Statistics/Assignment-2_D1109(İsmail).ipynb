{
 "cells": [
  {
   "cell_type": "code",
   "execution_count": 1,
   "id": "4aab5f97",
   "metadata": {},
   "outputs": [],
   "source": [
    "import pandas as pd\n",
    "import numpy as np\n",
    "from scipy import stats"
   ]
  },
  {
   "cell_type": "markdown",
   "id": "1fb297ed",
   "metadata": {},
   "source": [
    "**EXERCISE 1**. Suppose scores on exams in statistics are normally distributed with an unknown population mean and a population standard deviation of 3 points. A random sample of 36 scores is taken and gives a sample mean (sample  mean score) of 68. Find a confidence interval estimate for the population mean exam score (the mean score on all exams).\n",
    "\n",
    "Find a 90% confidence interval for the true (population) mean of statistics exam scores."
   ]
  },
  {
   "cell_type": "code",
   "execution_count": 2,
   "id": "ba618dd5",
   "metadata": {},
   "outputs": [],
   "source": [
    "std_population = 3\n",
    "n = 36\n",
    "mean_sample = 68\n",
    "sem_population = std_population/np.sqrt(n)\n",
    "z_star = stats.norm.ppf(0.95)"
   ]
  },
  {
   "cell_type": "code",
   "execution_count": 3,
   "id": "99eaca20",
   "metadata": {},
   "outputs": [
    {
     "data": {
      "text/plain": [
       "(67.17757318652427, 68.82242681347573)"
      ]
     },
     "execution_count": 3,
     "metadata": {},
     "output_type": "execute_result"
    }
   ],
   "source": [
    "(mean_sample - z_star*sem_population) , (mean_sample + z_star*sem_population)"
   ]
  },
  {
   "cell_type": "code",
   "execution_count": 4,
   "id": "bdb3402e",
   "metadata": {},
   "outputs": [
    {
     "data": {
      "text/plain": [
       "(67.17757318652427, 68.82242681347573)"
      ]
     },
     "execution_count": 4,
     "metadata": {},
     "output_type": "execute_result"
    }
   ],
   "source": [
    "stats.norm.interval(0.90,loc=mean_sample, scale=sem_population)"
   ]
  },
  {
   "cell_type": "markdown",
   "id": "4ea7e548",
   "metadata": {},
   "source": [
    "**EXERCISE 2**. What is the normal body temperature for healthy humans? A random sample of 130 healthy human body temperatures provided by Allen Shoemaker7 yielded 98.25 degrees and standard deviation 0.73 degrees. \n",
    "\n",
    "Give a 99% confidence interval for the average body temperature of healthy people."
   ]
  },
  {
   "cell_type": "code",
   "execution_count": 5,
   "id": "2e83852a",
   "metadata": {},
   "outputs": [],
   "source": [
    "n = 130\n",
    "mean_sample = 98.25\n",
    "std_sample = 0.73\n",
    "sem_population = std_sample/np.sqrt(n)\n",
    "t_star = stats.t.ppf(0.995,129)"
   ]
  },
  {
   "cell_type": "code",
   "execution_count": 6,
   "id": "bc33e296",
   "metadata": {},
   "outputs": [
    {
     "data": {
      "text/plain": [
       "(98.08260738705933, 98.41739261294067)"
      ]
     },
     "execution_count": 6,
     "metadata": {},
     "output_type": "execute_result"
    }
   ],
   "source": [
    "(mean_sample - t_star*sem_population) , (mean_sample + t_star*sem_population)"
   ]
  },
  {
   "cell_type": "code",
   "execution_count": 7,
   "id": "7e1e987b",
   "metadata": {},
   "outputs": [
    {
     "data": {
      "text/plain": [
       "(98.08260738705933, 98.41739261294067)"
      ]
     },
     "execution_count": 7,
     "metadata": {},
     "output_type": "execute_result"
    }
   ],
   "source": [
    "stats.t.interval(0.99,df = 129,loc=mean_sample, scale=sem_population)"
   ]
  },
  {
   "cell_type": "markdown",
   "id": "d0469ebd",
   "metadata": {},
   "source": [
    "**EXERCISE 3**. The administrators for a hospital wished to estimate the average number of days required for inpatient treatment of patients between the ages of 25 and 34. A random sample of 500 hospital patients between these ages produced a mean and standard deviation equal to 5.4 and 3.1 days, respectively.\n",
    "Construct a 95% confidence interval for the mean length of stay for the population of patients from which the sample was drawn."
   ]
  },
  {
   "cell_type": "code",
   "execution_count": 8,
   "id": "63ba362a",
   "metadata": {},
   "outputs": [],
   "source": [
    "n = 500\n",
    "mean_sample = 5.4\n",
    "std_sample = 3.1\n",
    "sem_population = std_sample/np.sqrt(n)\n",
    "t_star = stats.t.ppf(0.975,499)"
   ]
  },
  {
   "cell_type": "code",
   "execution_count": 9,
   "id": "2c3c3f1d",
   "metadata": {},
   "outputs": [
    {
     "data": {
      "text/plain": [
       "(5.127617354510309, 5.672382645489692)"
      ]
     },
     "execution_count": 9,
     "metadata": {},
     "output_type": "execute_result"
    }
   ],
   "source": [
    "(mean_sample - t_star*sem_population) , (mean_sample + t_star*sem_population)"
   ]
  },
  {
   "cell_type": "code",
   "execution_count": 10,
   "id": "5e4fad1b",
   "metadata": {},
   "outputs": [
    {
     "data": {
      "text/plain": [
       "(5.127617354510309, 5.672382645489692)"
      ]
     },
     "execution_count": 10,
     "metadata": {},
     "output_type": "execute_result"
    }
   ],
   "source": [
    "stats.t.interval(0.95,df = 499,loc=mean_sample, scale=sem_population)"
   ]
  }
 ],
 "metadata": {
  "kernelspec": {
   "display_name": "Python 3 (ipykernel)",
   "language": "python",
   "name": "python3"
  },
  "language_info": {
   "codemirror_mode": {
    "name": "ipython",
    "version": 3
   },
   "file_extension": ".py",
   "mimetype": "text/x-python",
   "name": "python",
   "nbconvert_exporter": "python",
   "pygments_lexer": "ipython3",
   "version": "3.8.12"
  },
  "toc": {
   "base_numbering": 1,
   "nav_menu": {},
   "number_sections": true,
   "sideBar": true,
   "skip_h1_title": false,
   "title_cell": "Table of Contents",
   "title_sidebar": "Contents",
   "toc_cell": false,
   "toc_position": {},
   "toc_section_display": true,
   "toc_window_display": false
  }
 },
 "nbformat": 4,
 "nbformat_minor": 5
}
